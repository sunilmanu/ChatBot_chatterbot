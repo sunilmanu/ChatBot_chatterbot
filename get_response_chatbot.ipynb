{
 "cells": [
  {
   "cell_type": "code",
   "execution_count": 1,
   "metadata": {},
   "outputs": [],
   "source": [
    "from chatterbot import ChatBot\n",
    "from chatterbot.trainers import ListTrainer\n",
    "from chatterbot.trainers import ChatterBotCorpusTrainer\n",
    "import os"
   ]
  },
  {
   "cell_type": "code",
   "execution_count": 5,
   "metadata": {},
   "outputs": [],
   "source": [
    "def get_response(user_input):\n",
    "    chatbot=ChatBot('Sunil_bot')\n",
    "    trainer = ChatterBotCorpusTrainer(chatbot)\n",
    "    logic_adapter=[{'import_path' : 'chatterbot.logic.BestMatch'},{'import_path':'chatterbot.logic.LowConfidence.Adapter','threshold':0.70,'default_response' : 'I am Sorry,but I do not Understand'}]\n",
    "    while True:\n",
    "        if user_input.strip() != \"Bye\":\n",
    "            result=chatbot.get_response(user_input)\n",
    "            reply = str(result)\n",
    "        if user_input.strip() == \"Bye\":\n",
    "            return(\"Bye\")\n",
    "            break"
   ]
  },
  {
   "cell_type": "code",
   "execution_count": null,
   "metadata": {},
   "outputs": [
    {
     "name": "stderr",
     "output_type": "stream",
     "text": [
      "[nltk_data] Error loading stopwords: HTTP Error 401: Authorization\n",
      "[nltk_data]     Required\n",
      "[nltk_data] Error loading averaged_perceptron_tagger: HTTP Error 401:\n",
      "[nltk_data]     Authorization Required\n"
     ]
    }
   ],
   "source": [
    "get_response(\"HI\")"
   ]
  },
  {
   "cell_type": "code",
   "execution_count": null,
   "metadata": {},
   "outputs": [],
   "source": []
  }
 ],
 "metadata": {
  "kernelspec": {
   "display_name": "Python 3.6 (tensorflow)",
   "language": "python",
   "name": "dfhdfh"
  },
  "language_info": {
   "codemirror_mode": {
    "name": "ipython",
    "version": 3
   },
   "file_extension": ".py",
   "mimetype": "text/x-python",
   "name": "python",
   "nbconvert_exporter": "python",
   "pygments_lexer": "ipython3",
   "version": "3.6.6"
  }
 },
 "nbformat": 4,
 "nbformat_minor": 2
}
